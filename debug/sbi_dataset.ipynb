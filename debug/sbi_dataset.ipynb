{
 "cells": [
  {
   "cell_type": "code",
   "execution_count": 111,
   "metadata": {},
   "outputs": [],
   "source": [
    "import numpy as np\n",
    "from PIL import Image\n"
   ]
  },
  {
   "cell_type": "code",
   "execution_count": 112,
   "metadata": {},
   "outputs": [],
   "source": [
    "path_lm='/landmarks/' \n",
    "error_fig='/dataset/FaceForensics++/original_sequences/youtube/raw/frames/604/106.png'\n",
    "\n",
    "img=np.array(Image.open(error_fig))\n",
    "landmark=np.load(error_fig.replace('.png','.npy').replace('/frames/', path_lm))[0]\n",
    "bbox_lm=np.array([landmark[:,0].min(),landmark[:,1].min(),landmark[:,0].max(),landmark[:,1].max()])\n",
    "bboxes=np.load(error_fig.replace('.png','.npy').replace('/frames/','/retina/'))[:2]"
   ]
  },
  {
   "cell_type": "code",
   "execution_count": 113,
   "metadata": {},
   "outputs": [],
   "source": [
    "bbox = bboxes[0]"
   ]
  },
  {
   "cell_type": "code",
   "execution_count": 114,
   "metadata": {},
   "outputs": [
    {
     "data": {
      "text/plain": [
       "(81, 2)"
      ]
     },
     "execution_count": 114,
     "metadata": {},
     "output_type": "execute_result"
    }
   ],
   "source": [
    "landmark.shape"
   ]
  },
  {
   "cell_type": "code",
   "execution_count": 115,
   "metadata": {},
   "outputs": [
    {
     "data": {
      "text/plain": [
       "array([1003,  169, 1209,  442])"
      ]
     },
     "execution_count": 115,
     "metadata": {},
     "output_type": "execute_result"
    }
   ],
   "source": [
    "bbox_lm"
   ]
  },
  {
   "cell_type": "code",
   "execution_count": 145,
   "metadata": {},
   "outputs": [
    {
     "data": {
      "text/plain": [
       "(71, 225, 277, 442)"
      ]
     },
     "execution_count": 145,
     "metadata": {},
     "output_type": "execute_result"
    }
   ],
   "source": [
    "landmark[:68,0].min(),landmark[:68,1].min(), landmark[:68,0].max(),landmark[:68,1].max()"
   ]
  },
  {
   "cell_type": "code",
   "execution_count": 116,
   "metadata": {},
   "outputs": [
    {
     "data": {
      "text/plain": [
       "(286.14, 101.89, 444.55, 335.35)"
      ]
     },
     "execution_count": 116,
     "metadata": {},
     "output_type": "execute_result"
    }
   ],
   "source": [
    "bbox[0][0], bbox[0][1], bbox[1][0], bbox[1][1]"
   ]
  },
  {
   "cell_type": "code",
   "execution_count": 117,
   "metadata": {},
   "outputs": [
    {
     "data": {
      "text/plain": [
       "(720, 1280, 3)"
      ]
     },
     "execution_count": 117,
     "metadata": {},
     "output_type": "execute_result"
    }
   ],
   "source": [
    "img.shape"
   ]
  },
  {
   "cell_type": "code",
   "execution_count": 118,
   "metadata": {},
   "outputs": [],
   "source": [
    "def reorder_landmark(landmark):\n",
    "\tlandmark_add=np.zeros((13,2))\n",
    "\tfor idx,idx_l in enumerate([77,75,76,68,69,70,71,80,72,73,79,74,78]):\n",
    "\t\tlandmark_add[idx]=landmark[idx_l]\n",
    "\tlandmark[68:]=landmark_add\n",
    "\treturn landmark"
   ]
  },
  {
   "cell_type": "code",
   "execution_count": 119,
   "metadata": {},
   "outputs": [],
   "source": [
    "def hflip(img,mask=None,landmark=None,bbox=None):\n",
    "    H,W=img.shape[:2]\n",
    "    landmark=landmark.copy()\n",
    "    bbox=bbox.copy()\n",
    "\n",
    "    if landmark is not None:\n",
    "        landmark_new=np.zeros_like(landmark)\n",
    "\n",
    "        \n",
    "        landmark_new[:17]=landmark[:17][::-1]\n",
    "        landmark_new[17:27]=landmark[17:27][::-1]\n",
    "\n",
    "        landmark_new[27:31]=landmark[27:31]\n",
    "        landmark_new[31:36]=landmark[31:36][::-1]\n",
    "\n",
    "        landmark_new[36:40]=landmark[42:46][::-1]\n",
    "        landmark_new[40:42]=landmark[46:48][::-1]\n",
    "\n",
    "        landmark_new[42:46]=landmark[36:40][::-1]\n",
    "        landmark_new[46:48]=landmark[40:42][::-1]\n",
    "\n",
    "        landmark_new[48:55]=landmark[48:55][::-1]\n",
    "        landmark_new[55:60]=landmark[55:60][::-1]\n",
    "\n",
    "        landmark_new[60:65]=landmark[60:65][::-1]\n",
    "        landmark_new[65:68]=landmark[65:68][::-1]\n",
    "        if len(landmark)==68:\n",
    "            pass\n",
    "        elif len(landmark)==81:\n",
    "            landmark_new[68:81]=landmark[68:81][::-1]\n",
    "        else:\n",
    "            raise NotImplementedError\n",
    "        landmark_new[:,0]=W-landmark_new[:,0]\n",
    "        \n",
    "    else:\n",
    "        landmark_new=None\n",
    "\n",
    "    if bbox is not None:\n",
    "        bbox_new=np.zeros_like(bbox)\n",
    "        bbox_new[0,0]=bbox[1,0]\n",
    "        bbox_new[1,0]=bbox[0,0]\n",
    "        bbox_new[:,0]=W-bbox_new[:,0]\n",
    "        bbox_new[:,1]=bbox[:,1].copy()\n",
    "        if len(bbox)>2:\n",
    "            bbox_new[2,0]=W-bbox[3,0]\n",
    "            bbox_new[2,1]=bbox[3,1]\n",
    "            bbox_new[3,0]=W-bbox[2,0]\n",
    "            bbox_new[3,1]=bbox[2,1]\n",
    "            bbox_new[4,0]=W-bbox[4,0]\n",
    "            bbox_new[4,1]=bbox[4,1]\n",
    "            bbox_new[5,0]=W-bbox[6,0]\n",
    "            bbox_new[5,1]=bbox[6,1]\n",
    "            bbox_new[6,0]=W-bbox[5,0]\n",
    "            bbox_new[6,1]=bbox[5,1]\n",
    "    else:\n",
    "        bbox_new=None\n",
    "\n",
    "    if mask is not None:\n",
    "        mask=mask[:,::-1]\n",
    "    else:\n",
    "        mask=None\n",
    "    img=img[:,::-1].copy()\n",
    "    return img,mask,landmark_new,bbox_new"
   ]
  },
  {
   "cell_type": "code",
   "execution_count": 120,
   "metadata": {},
   "outputs": [],
   "source": [
    "landmark=reorder_landmark(landmark)"
   ]
  },
  {
   "cell_type": "code",
   "execution_count": 121,
   "metadata": {},
   "outputs": [],
   "source": [
    "img,_,landmark,bbox=hflip(img,None,landmark,bbox)"
   ]
  },
  {
   "cell_type": "code",
   "execution_count": 122,
   "metadata": {},
   "outputs": [
    {
     "data": {
      "text/plain": [
       "(835.45, 993.86, 101.89, 335.35)"
      ]
     },
     "execution_count": 122,
     "metadata": {},
     "output_type": "execute_result"
    }
   ],
   "source": [
    "bbox[0][0], bbox[1][0], bbox[0][1], bbox[1][1]"
   ]
  },
  {
   "cell_type": "code",
   "execution_count": 142,
   "metadata": {},
   "outputs": [
    {
     "name": "stderr",
     "output_type": "stream",
     "text": [
      "/home/chenyuheng/miniconda3/envs/deepfake/lib/python3.8/site-packages/albumentations/__init__.py:13: UserWarning: A new version of Albumentations is available: 1.4.23 (you have 1.4.18). Upgrade using: pip install -U albumentations. To disable automatic update checks, set the environment variable NO_ALBUMENTATIONS_UPDATE to 1.\n",
      "  check_for_updates()\n"
     ]
    }
   ],
   "source": [
    "import sys\n",
    "sys.path.append('/home/chenyuheng/SelfBlendedImages/src/utils/')\n",
    "from funcs import crop_face"
   ]
  },
  {
   "cell_type": "code",
   "execution_count": 143,
   "metadata": {},
   "outputs": [],
   "source": [
    "img_, landmark_, bbox_, __, y0_new,y1_new,x0_new,x1_new=crop_face(img, landmark, bbox, margin=True, crop_by_bbox=False, abs_coord=True)"
   ]
  },
  {
   "cell_type": "code",
   "execution_count": 144,
   "metadata": {},
   "outputs": [
    {
     "data": {
      "text/plain": [
       "(8, 529, 0, 381)"
      ]
     },
     "execution_count": 144,
     "metadata": {},
     "output_type": "execute_result"
    }
   ],
   "source": [
    "y0_new,y1_new,x0_new,x1_new"
   ]
  },
  {
   "cell_type": "code",
   "execution_count": 146,
   "metadata": {},
   "outputs": [],
   "source": [
    "x0,y0=landmark[:68,0].min(),landmark[:68,1].min()\n",
    "x1,y1=landmark[:68,0].max(),landmark[:68,1].max()"
   ]
  },
  {
   "cell_type": "code",
   "execution_count": 147,
   "metadata": {},
   "outputs": [
    {
     "data": {
      "text/plain": [
       "(71, 277, 225, 442)"
      ]
     },
     "execution_count": 147,
     "metadata": {},
     "output_type": "execute_result"
    }
   ],
   "source": [
    "x0, x1, y0, y1"
   ]
  },
  {
   "cell_type": "code",
   "execution_count": null,
   "metadata": {},
   "outputs": [],
   "source": []
  },
  {
   "cell_type": "code",
   "execution_count": 123,
   "metadata": {},
   "outputs": [
    {
     "data": {
      "text/plain": [
       "array([[835.45, 101.89],\n",
       "       [993.86, 335.35],\n",
       "       [878.5 , 192.71],\n",
       "       [956.51, 196.5 ],\n",
       "       [915.33, 238.98],\n",
       "       [880.79, 274.99],\n",
       "       [946.15, 278.44]])"
      ]
     },
     "execution_count": 123,
     "metadata": {},
     "output_type": "execute_result"
    }
   ],
   "source": [
    "bbox"
   ]
  },
  {
   "cell_type": "code",
   "execution_count": 124,
   "metadata": {},
   "outputs": [],
   "source": [
    "x0, y0 = bbox[0]\n",
    "x1, y1 = bbox[1]"
   ]
  },
  {
   "cell_type": "code",
   "execution_count": 125,
   "metadata": {},
   "outputs": [],
   "source": [
    "x0 ,y0, x1, y1 = bbox_lm"
   ]
  },
  {
   "cell_type": "code",
   "execution_count": 126,
   "metadata": {},
   "outputs": [],
   "source": [
    "w = x1-x0\n",
    "h = y1-y0"
   ]
  },
  {
   "cell_type": "code",
   "execution_count": 127,
   "metadata": {},
   "outputs": [],
   "source": [
    "w0_margin=w/2\n",
    "w1_margin=w/2"
   ]
  },
  {
   "cell_type": "code",
   "execution_count": 128,
   "metadata": {},
   "outputs": [],
   "source": [
    "h0_margin=h#0#np.random.rand()*(h/5)\n",
    "h1_margin=h/5*2"
   ]
  },
  {
   "cell_type": "code",
   "execution_count": 129,
   "metadata": {},
   "outputs": [],
   "source": [
    "H,W=len(img),len(img[0])"
   ]
  },
  {
   "cell_type": "code",
   "execution_count": 130,
   "metadata": {},
   "outputs": [
    {
     "data": {
      "text/plain": [
       "(1003, 1209, 169, 442)"
      ]
     },
     "execution_count": 130,
     "metadata": {},
     "output_type": "execute_result"
    }
   ],
   "source": [
    "x0, x1, y0, y1"
   ]
  },
  {
   "cell_type": "code",
   "execution_count": 131,
   "metadata": {},
   "outputs": [],
   "source": [
    "x0 ,y0, x1, y1 = bbox_lm"
   ]
  },
  {
   "cell_type": "code",
   "execution_count": 132,
   "metadata": {},
   "outputs": [
    {
     "data": {
      "text/plain": [
       "(1003, 1209, 169, 442)"
      ]
     },
     "execution_count": 132,
     "metadata": {},
     "output_type": "execute_result"
    }
   ],
   "source": [
    "x0, x1 ,y0, y1"
   ]
  },
  {
   "cell_type": "code",
   "execution_count": 133,
   "metadata": {},
   "outputs": [],
   "source": [
    "x0_new=max(0,int(x0-w0_margin))\n",
    "x1_new=min(W,int(x1+w1_margin)+1)"
   ]
  },
  {
   "cell_type": "code",
   "execution_count": 134,
   "metadata": {},
   "outputs": [],
   "source": [
    "y0_new=max(0,int(y0-h0_margin))\n",
    "y1_new=min(H,int(y1+h1_margin)+1)"
   ]
  },
  {
   "cell_type": "code",
   "execution_count": 135,
   "metadata": {},
   "outputs": [
    {
     "data": {
      "text/plain": [
       "(900, 1280)"
      ]
     },
     "execution_count": 135,
     "metadata": {},
     "output_type": "execute_result"
    }
   ],
   "source": [
    "x0_new, x1_new"
   ]
  },
  {
   "cell_type": "code",
   "execution_count": 136,
   "metadata": {},
   "outputs": [
    {
     "data": {
      "text/plain": [
       "(0, 552)"
      ]
     },
     "execution_count": 136,
     "metadata": {},
     "output_type": "execute_result"
    }
   ],
   "source": [
    "y0_new, y1_new"
   ]
  },
  {
   "cell_type": "code",
   "execution_count": 137,
   "metadata": {},
   "outputs": [
    {
     "data": {
      "text/plain": [
       "(103, 309)"
      ]
     },
     "execution_count": 137,
     "metadata": {},
     "output_type": "execute_result"
    }
   ],
   "source": [
    "x0-x0_new, x1-x0_new"
   ]
  },
  {
   "cell_type": "code",
   "execution_count": 138,
   "metadata": {},
   "outputs": [
    {
     "data": {
      "text/plain": [
       "(169, 442)"
      ]
     },
     "execution_count": 138,
     "metadata": {},
     "output_type": "execute_result"
    }
   ],
   "source": [
    "y0-y0_new, y1-y0_new"
   ]
  },
  {
   "cell_type": "code",
   "execution_count": 139,
   "metadata": {},
   "outputs": [],
   "source": [
    "x0, y0 = bbox[0]\n",
    "x1, y1 = bbox[1]"
   ]
  },
  {
   "cell_type": "code",
   "execution_count": 140,
   "metadata": {},
   "outputs": [
    {
     "data": {
      "text/plain": [
       "(-64.54999999999995, 93.86000000000001)"
      ]
     },
     "execution_count": 140,
     "metadata": {},
     "output_type": "execute_result"
    }
   ],
   "source": [
    "x0-x0_new, x1-x0_new"
   ]
  },
  {
   "cell_type": "code",
   "execution_count": 141,
   "metadata": {},
   "outputs": [
    {
     "data": {
      "text/plain": [
       "(101.89, 335.35)"
      ]
     },
     "execution_count": 141,
     "metadata": {},
     "output_type": "execute_result"
    }
   ],
   "source": [
    "y0-y0_new, y1-y0_new"
   ]
  }
 ],
 "metadata": {
  "kernelspec": {
   "display_name": "deepfake",
   "language": "python",
   "name": "python3"
  },
  "language_info": {
   "codemirror_mode": {
    "name": "ipython",
    "version": 3
   },
   "file_extension": ".py",
   "mimetype": "text/x-python",
   "name": "python",
   "nbconvert_exporter": "python",
   "pygments_lexer": "ipython3",
   "version": "3.8.20"
  }
 },
 "nbformat": 4,
 "nbformat_minor": 2
}
